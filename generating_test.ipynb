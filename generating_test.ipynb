{
 "cells": [
  {
   "cell_type": "code",
   "execution_count": 1,
   "metadata": {},
   "outputs": [
    {
     "name": "stderr",
     "output_type": "stream",
     "text": [
      "Using TensorFlow backend.\n"
     ]
    }
   ],
   "source": [
    "from keras.preprocessing.sequence import pad_sequences\n",
    "from keras import backend as K\n",
    "from keras.models import model_from_json\n",
    "import random\n",
    "import pickle\n",
    "import os"
   ]
  },
  {
   "cell_type": "code",
   "execution_count": 2,
   "metadata": {},
   "outputs": [],
   "source": [
    "os.environ[\"CUDA_DEVICE_ORDER\"]= 'PCI_BUS_ID'  \n",
    "os.environ[\"CUDA_VISIBLE_DEVICES\"]= '1'"
   ]
  },
  {
   "cell_type": "code",
   "execution_count": 3,
   "metadata": {},
   "outputs": [],
   "source": [
    "def clear_session():\n",
    "    K.get_session().graph.get_collection('variables')\n",
    "    K.clear_session()"
   ]
  },
  {
   "cell_type": "code",
   "execution_count": 6,
   "metadata": {},
   "outputs": [],
   "source": [
    "def model_load(model_path):\n",
    "    clear_session()\n",
    "    json_file = open(model_path + '.json', 'r')\n",
    "    loaded_model_json = json_file.read()\n",
    "    json_file.close()\n",
    "    model = model_from_json(loaded_model_json)\n",
    "    model.load_weights(model_path + '_weights.h5')\n",
    "    print('model loaded!')\n",
    "    return model    "
   ]
  },
  {
   "cell_type": "code",
   "execution_count": 7,
   "metadata": {},
   "outputs": [
    {
     "name": "stdout",
     "output_type": "stream",
     "text": [
      "model loaded!\n"
     ]
    }
   ],
   "source": [
    "UNKNOWN_INDEX = 1\n",
    "SEQUENCE_START = '<START>'\n",
    "SEQUENCE_END = '<END>'\n",
    "MAX_TEXT_LENGTH = 120\n",
    "\n",
    "with open('vocabulary.pkl', 'rb') as f: \n",
    "    vocabulary = pickle.load(f)\n",
    "    \n",
    "model = model_load('2x_gru_model')\n",
    "\n",
    "\n",
    "token_by_index = {index: token for token, index in vocabulary.items()}\n",
    "\n",
    "SEQUENCE_START_INDEX = vocabulary[SEQUENCE_START]\n",
    "SEQUENCE_END_INDEX = vocabulary[SEQUENCE_END]"
   ]
  },
  {
   "cell_type": "code",
   "execution_count": 8,
   "metadata": {},
   "outputs": [],
   "source": [
    "def generate():\n",
    "    j = 0\n",
    "    indices = [vocabulary[SEQUENCE_START]]\n",
    "    while True:\n",
    "        sequence = pad_sequences([indices], MAX_TEXT_LENGTH)\n",
    "\n",
    "        predictions = model.predict(sequence)[0]\n",
    "        #print(predictions)\n",
    "        j += 1\n",
    "        if (predictions.argmax() == SEQUENCE_END_INDEX) :\n",
    "            return ' '.join(token_by_index[index] for index in indices[1:])\n",
    "        \n",
    "        seed = random.random()\n",
    "        \n",
    "        total = 0\n",
    "        for i, probability in enumerate(predictions):\n",
    "            total += probability\n",
    "            if seed < total and i not in [UNKNOWN_INDEX, SEQUENCE_START_INDEX, SEQUENCE_END_INDEX] and i != indices[-1]:\n",
    "                indices.append(i)\n",
    "                break"
   ]
  },
  {
   "cell_type": "code",
   "execution_count": 13,
   "metadata": {},
   "outputs": [
    {
     "data": {
      "text/plain": [
       "'маффины с изюмом : перемешать яйца с желтками , солью , яйцами и разрыхлителем . добавить сметану , в конце добавить растительное масло , ванильный сахар , предварительно замоченный вместе с разрыхлителем , постепенно всыпать мучную смесь . для начинки : муку с разрыхлителем . тесто должно быть похоже на пельменное . смазать формочки сливочным маслом , посыпать мукой и . вылить тесто и отправить в духовку на 20–25 минут при 180 градусах .'"
      ]
     },
     "execution_count": 13,
     "metadata": {},
     "output_type": "execute_result"
    }
   ],
   "source": [
    "generate()"
   ]
  },
  {
   "cell_type": "code",
   "execution_count": 12,
   "metadata": {},
   "outputs": [
    {
     "data": {
      "text/plain": [
       "'меренги . : капусту измельчить в блендере . сливки смешать с творогом , корицей и солью . смешать все компоненты вместе в блендере , залить получившийся тесто , половину сахара . яблоки очистить от кожицы и нарезать тонкими ломтиками . после того , как вода , мешать лопаточкой . поверхность апельсина смазать желтком , посыпать сахаром и сахаром . поставить в разогретую духовку до 180 градусов духовку на 20 минут .'"
      ]
     },
     "execution_count": 12,
     "metadata": {},
     "output_type": "execute_result"
    }
   ],
   "source": [
    "generate()"
   ]
  },
  {
   "cell_type": "code",
   "execution_count": null,
   "metadata": {},
   "outputs": [],
   "source": []
  }
 ],
 "metadata": {
  "kernelspec": {
   "display_name": "Python 3",
   "language": "python3.6",
   "name": "python3"
  },
  "language_info": {
   "codemirror_mode": {
    "name": "ipython",
    "version": 3
   },
   "file_extension": ".py",
   "mimetype": "text/x-python",
   "name": "python",
   "nbconvert_exporter": "python",
   "pygments_lexer": "ipython3",
   "version": "3.6.8"
  }
 },
 "nbformat": 4,
 "nbformat_minor": 2
}
