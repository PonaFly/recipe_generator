{
 "cells": [
  {
   "cell_type": "code",
   "execution_count": 6,
   "metadata": {},
   "outputs": [],
   "source": [
    "import pickle\n",
    "import razdel\n",
    "import os\n",
    "import collections\n",
    "import numpy as np\n",
    "import seaborn as sns\n",
    "import matplotlib.pyplot as plt\n",
    "from sklearn.model_selection import train_test_split\n",
    "from keras.preprocessing.sequence import pad_sequences\n",
    "from random import shuffle\n",
    "sns.set(color_codes=True)"
   ]
  },
  {
   "cell_type": "code",
   "execution_count": 7,
   "metadata": {},
   "outputs": [],
   "source": [
    "def load_obj(name):\n",
    "    with open(name + '.pkl', 'rb') as f:\n",
    "        return pickle.load(f)\n",
    "    \n",
    "def tokenize(text):\n",
    "    return [SEQUENCE_START] + [t.text for t in razdel.tokenize(text.lower())] + [SEQUENCE_END]"
   ]
  },
  {
   "cell_type": "code",
   "execution_count": 8,
   "metadata": {},
   "outputs": [],
   "source": [
    "def do_vocab():\n",
    "    PAD_INDEX = 0\n",
    "    all_words = [y for x in tokenized for y in x] #vocab size 40-120\n",
    "    \n",
    "    token_counts = collections.Counter(all_words)\n",
    "    vocabulary = {'PAD': PAD_INDEX, 'UNKNOWN': UNKNOWN_INDEX}\n",
    "    for token, count in token_counts.most_common():\n",
    "        if count > 1:\n",
    "            vocabulary[token] = len(vocabulary)\n",
    "        \n",
    "    VOCABULARY_SIZE = len(vocabulary)\n",
    "    print(VOCABULARY_SIZE)\n",
    "    with open('vocabulary.pkl', 'wb') as handle:\n",
    "        pickle.dump(vocabulary, handle)"
   ]
  },
  {
   "cell_type": "code",
   "execution_count": 9,
   "metadata": {},
   "outputs": [],
   "source": [
    "UNKNOWN_INDEX = 1\n",
    "SEQUENCE_START = '<START>'\n",
    "SEQUENCE_END = '<END>'\n",
    "\n",
    "data = load_obj('data_bot')\n",
    "names_and_recipes = []\n",
    "for recipe in data:\n",
    "    try:\n",
    "        intstructions = ''\n",
    "        for sentence in recipe['recipeInstructions']:\n",
    "            intstructions += sentence\n",
    "    except:\n",
    "        continue\n",
    "    n_a_r = recipe['name'] + ':' + intstructions\n",
    "    names_and_recipes.append(n_a_r)\n",
    "shuffle(data)"
   ]
  },
  {
   "cell_type": "code",
   "execution_count": 5,
   "metadata": {},
   "outputs": [
    {
     "name": "stdout",
     "output_type": "stream",
     "text": [
      "1709\n"
     ]
    }
   ],
   "source": [
    "tokenized = []\n",
    "for recipe in names_and_recipes:\n",
    "    t = tokenize(recipe)\n",
    "    #if (len(t) >= 40 and len(t) < 100):\n",
    "    if (len(t) >= 100 and len(t) <= 120):\n",
    "        tokenized.append(t)\n",
    "    \n",
    "print(len(tokenized))"
   ]
  },
  {
   "cell_type": "code",
   "execution_count": 6,
   "metadata": {},
   "outputs": [],
   "source": [
    "vocabulary = load_obj('vocabulary')"
   ]
  },
  {
   "cell_type": "code",
   "execution_count": 7,
   "metadata": {},
   "outputs": [
    {
     "name": "stdout",
     "output_type": "stream",
     "text": [
      "8829\n"
     ]
    }
   ],
   "source": [
    "VOCABULARY_SIZE = len(vocabulary)\n",
    "print(VOCABULARY_SIZE)"
   ]
  },
  {
   "cell_type": "code",
   "execution_count": 8,
   "metadata": {},
   "outputs": [],
   "source": [
    "MAX_TEXT_LENGTH = 120\n",
    "samples = []\n",
    "targets = []\n",
    "for recipe in tokenized:\n",
    "    for tokens in recipe:\n",
    "        indices = np.array([vocabulary.get(token, UNKNOWN_INDEX) for token in recipe],dtype=np.uint16)\n",
    "        for i in range(1, len(recipe)):\n",
    "            targets.append(indices[i])\n",
    "            samples.append(indices[:min(MAX_TEXT_LENGTH,i)])"
   ]
  },
  {
   "cell_type": "code",
   "execution_count": 9,
   "metadata": {
    "scrolled": true
   },
   "outputs": [],
   "source": [
    "X_train, X_test, y_train, y_test = train_test_split(samples, targets, test_size=0.1)\n",
    "np.save('y_train_120_100_120',y_train)\n",
    "np.save('y_test_120_100_120',y_test)\n",
    "del y_train\n",
    "del y_test\n",
    "del samples\n",
    "del targets\n",
    "\n",
    "X_test = pad_sequences(X_test, MAX_TEXT_LENGTH,dtype=np.uint16)\n",
    "np.save('X_test_120_100_120',X_test)\n",
    "del X_test\n",
    "X_train = pad_sequences(X_train, MAX_TEXT_LENGTH,dtype=np.uint16)\n",
    "np.save('X_train_120_100_120',X_train)\n",
    "del X_train"
   ]
  },
  {
   "cell_type": "code",
   "execution_count": 15,
   "metadata": {},
   "outputs": [],
   "source": [
    "t = []\n",
    "l = [] # words in a sentence in a recipes whose len: 40<=len<=120\n",
    "max_sentences = []\n",
    "max_recipe = ''\n",
    "for recipe in names_and_recipes:    \n",
    "    temp = recipe.split('.')\n",
    "    for real_sentence in temp:\n",
    "        temp_l = len(real_sentence.split())\n",
    "        if (temp_l > 0):\n",
    "            l.append(temp_l)\n",
    "        if temp_l > 100:\n",
    "            max_sentences.append(real_sentence)"
   ]
  },
  {
   "cell_type": "code",
   "execution_count": 17,
   "metadata": {},
   "outputs": [
    {
     "data": {
      "text/plain": [
       "10.168474019639723"
      ]
     },
     "execution_count": 17,
     "metadata": {},
     "output_type": "execute_result"
    }
   ],
   "source": [
    "np.mean(l)"
   ]
  },
  {
   "cell_type": "code",
   "execution_count": 15,
   "metadata": {
    "scrolled": false
   },
   "outputs": [
    {
     "data": {
      "text/plain": [
       "<matplotlib.axes._subplots.AxesSubplot at 0x7f8f782f3f28>"
      ]
     },
     "execution_count": 15,
     "metadata": {},
     "output_type": "execute_result"
    },
    {
     "data": {
      "image/png": "[encoded data removed]",
      "text/plain": [
       "<Figure size 1080x720 with 1 Axes>"
      ]
     },
     "metadata": {
      "needs_background": "light"
     },
     "output_type": "display_data"
    }
   ],
   "source": [
    "plt.figure(figsize=(15,10))\n",
    "sns.distplot(l)"
   ]
  },
  {
   "cell_type": "code",
   "execution_count": 6,
   "metadata": {},
   "outputs": [
    {
     "name": "stderr",
     "output_type": "stream",
     "text": [
      "/home/human/.local/lib/python3.6/site-packages/scipy/stats/stats.py:1713: FutureWarning: Using a non-tuple sequence for multidimensional indexing is deprecated; use `arr[tuple(seq)]` instead of `arr[seq]`. In the future this will be interpreted as an array index, `arr[np.array(seq)]`, which will result either in an error or a different result.\n",
      "  return np.add.reduce(sorted[indexer] * weights, axis=axis) / sumval\n"
     ]
    },
    {
     "data": {
      "text/plain": [
       "<matplotlib.axes._subplots.AxesSubplot at 0x7fa790921b00>"
      ]
     },
     "execution_count": 6,
     "metadata": {},
     "output_type": "execute_result"
    },
    {
     "data": {
      "image/png": "[encoded data removed]",
      "text/plain": [
       "<Figure size 1080x720 with 1 Axes>"
      ]
     },
     "metadata": {
      "needs_background": "light"
     },
     "output_type": "display_data"
    }
   ],
   "source": [
    "lens = sorted(list(map(len,tokenized)),reverse=True) # words in a recipe\n",
    "plt.figure(figsize=(15,10))\n",
    "sns.distplot(lens)"
   ]
  }
 ],
 "metadata": {
  "kernelspec": {
   "display_name": "Python 3",
   "language": "python3.6",
   "name": "python3"
  },
  "language_info": {
   "codemirror_mode": {
    "name": "ipython",
    "version": 3
   },
   "file_extension": ".py",
   "mimetype": "text/x-python",
   "name": "python",
   "nbconvert_exporter": "python",
   "pygments_lexer": "ipython3",
   "version": "3.6.8"
  }
 },
 "nbformat": 4,
 "nbformat_minor": 2
}
